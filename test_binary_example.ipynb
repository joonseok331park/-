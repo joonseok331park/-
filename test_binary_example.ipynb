{
 "cells": [
  {
   "cell_type": "code",
   "execution_count": null,
   "metadata": {},
   "outputs": [],
   "source": [
    "from binary_tree import BinarySearchTree"
   ]
  },
  {
   "cell_type": "markdown",
   "metadata": {},
   "source": [
    "# Test case 1 - testing for insertion operation\n",
    "\n",
    "Making sure binary insert is operating as expected."
   ]
  },
  {
   "cell_type": "code",
   "execution_count": 4,
   "metadata": {},
   "outputs": [
    {
     "name": "stdout",
     "output_type": "stream",
     "text": [
      "    * 3\n",
      "* 2  <- root\n",
      "    * 1\n"
     ]
    }
   ],
   "source": [
    "bst1 = BinarySearchTree()\n",
    "bst1.insert(2)\n",
    "bst1.insert(1)\n",
    "bst1.insert(3)\n",
    "\n",
    "# This should make a tree like this:\n",
    "#   2\n",
    "# 1   3\n",
    "\n",
    "bst1.display()"
   ]
  },
  {
   "cell_type": "code",
   "execution_count": 5,
   "metadata": {},
   "outputs": [
    {
     "name": "stdout",
     "output_type": "stream",
     "text": [
      "                * 5\n",
      "            * 4\n",
      "        * 3\n",
      "    * 2\n",
      "* 1  <- root\n"
     ]
    }
   ],
   "source": [
    "# Test for a tree insertion in biased form\n",
    "\n",
    "bst2 = BinarySearchTree()\n",
    "bst2.insert(1)\n",
    "bst2.insert(2)\n",
    "bst2.insert(3)\n",
    "bst2.insert(4)\n",
    "bst2.insert(5)\n",
    "\n",
    "# This should make a tree like this:\n",
    "# 1\n",
    "#  \\\n",
    "#   2\n",
    "#    \\\n",
    "#     3\n",
    "#      \\\n",
    "#       4\n",
    "#        \\\n",
    "#         5\n",
    "\n",
    "bst2.display()\n"
   ]
  },
  {
   "cell_type": "markdown",
   "metadata": {},
   "source": [
    "# Test case 2 - testing for a deletion operation"
   ]
  },
  {
   "cell_type": "code",
   "execution_count": 8,
   "metadata": {},
   "outputs": [
    {
     "name": "stdout",
     "output_type": "stream",
     "text": [
      "    * 15\n",
      "        * 12\n",
      "* 10  <- root\n",
      "    * 5\n",
      "\n",
      "    * 12\n",
      "* 10  <- root\n",
      "    * 5\n"
     ]
    }
   ],
   "source": [
    "# Test case for deleting a node with one child\n",
    "\n",
    "bst3 = BinarySearchTree()\n",
    "bst3.insert(10)\n",
    "bst3.insert(5)\n",
    "bst3.insert(15)\n",
    "bst3.insert(12)\n",
    "\n",
    "# This should make a tree like this:\n",
    "#     10\n",
    "#    /  \\\n",
    "#   5   15\n",
    "#      /\n",
    "#     12\n",
    "bst3.display()\n",
    "print()\n",
    "\n",
    "bst3.delete(15)\n",
    "# After deleting node 15, the tree should look like this:\n",
    "#     10\n",
    "#    /  \\\n",
    "#   5   12\n",
    "\n",
    "bst3.display()"
   ]
  },
  {
   "cell_type": "code",
   "execution_count": 9,
   "metadata": {},
   "outputs": [
    {
     "name": "stdout",
     "output_type": "stream",
     "text": [
      "        * 35\n",
      "    * 30\n",
      "        * 25\n",
      "* 20  <- root\n",
      "        * 15\n",
      "    * 10\n",
      "        * 5\n",
      "\n",
      "        * 35\n",
      "    * 30\n",
      "* 25  <- root\n",
      "        * 15\n",
      "    * 10\n",
      "        * 5\n"
     ]
    }
   ],
   "source": [
    "# Test case for deleting a node with two children\n",
    "\n",
    "bst4 = BinarySearchTree()\n",
    "bst4.insert(20)\n",
    "bst4.insert(10)\n",
    "bst4.insert(30)\n",
    "bst4.insert(5)\n",
    "bst4.insert(15)\n",
    "bst4.insert(25)\n",
    "bst4.insert(35)\n",
    "\n",
    "# This should make a tree like this:\n",
    "#       20\n",
    "#      /  \\\n",
    "#    10    30\n",
    "#   / \\   /  \\\n",
    "#  5  15 25  35\n",
    "bst4.display()\n",
    "print()\n",
    "\n",
    "# Explanation:\n",
    "# When deleting a node with two children, we need to find the successor to replace the node.\n",
    "# The successor is the smallest node in the right subtree of the node to be deleted.\n",
    "# In this case, when deleting node 20, the successor is node 25.\n",
    "\n",
    "bst4.delete(20)\n",
    "# After deleting node 20, the tree should look like this:\n",
    "#       25\n",
    "#      /  \\\n",
    "#    10    30\n",
    "#   / \\     \\\n",
    "#  5  15    35\n",
    "\n",
    "bst4.display()\n"
   ]
  },
  {
   "cell_type": "markdown",
   "metadata": {},
   "source": [
    "# Test case 3 - Search functionality\n"
   ]
  },
  {
   "cell_type": "code",
   "execution_count": 11,
   "metadata": {},
   "outputs": [],
   "source": [
    "# Test case 3 - Search functionality\n",
    "\n",
    "bst_search = BinarySearchTree()\n",
    "bst_search.insert(50)\n",
    "bst_search.insert(30)\n",
    "bst_search.insert(70)\n",
    "bst_search.insert(20)\n",
    "bst_search.insert(40)\n",
    "bst_search.insert(60)\n",
    "bst_search.insert(80)\n",
    "\n",
    "# This should make a tree like this:\n",
    "#       50\n",
    "#      /  \\\n",
    "#    30    70\n",
    "#   / \\   /  \\\n",
    "#  20 40 60  80\n",
    "\n",
    "# Test searching for existing values\n",
    "# The assert statement is used to test if a condition is true. If the condition is false, it raises an AssertionError with the specified error message.\n",
    "assert bst_search.search(50)._element == 50, \"Test failed: 50 should be found\"\n",
    "assert bst_search.search(30)._element == 30, \"Test failed: 30 should be found\"\n",
    "assert bst_search.search(70)._element == 70, \"Test failed: 70 should be found\"\n",
    "assert bst_search.search(20)._element == 20, \"Test failed: 20 should be found\"\n",
    "assert bst_search.search(40)._element == 40, \"Test failed: 40 should be found\"\n",
    "assert bst_search.search(60)._element == 60, \"Test failed: 60 should be found\"\n",
    "assert bst_search.search(80)._element == 80, \"Test failed: 80 should be found\"\n",
    "\n",
    "# Test searching for non-existing values\n",
    "assert bst_search.search(10) is None, \"Test failed: 10 should not be found\"\n",
    "assert bst_search.search(90) is None, \"Test failed: 90 should not be found\"\n",
    "assert bst_search.search(35) is None, \"Test failed: 35 should not be found\"\n",
    "\n",
    "# Justification:\n",
    "# The search function should correctly identify whether a value exists in the tree.\n",
    "# It should return the node containing the element if found, otherwise None.\n",
    "# The test cases cover both existing and non-existing values to ensure the search function behaves as expected."
   ]
  },
  {
   "cell_type": "markdown",
   "metadata": {},
   "source": [
    "# Test case - add more as you wish!\n"
   ]
  },
  {
   "cell_type": "markdown",
   "metadata": {},
   "source": []
  }
 ],
 "metadata": {
  "kernelspec": {
   "display_name": "Python 3",
   "language": "python",
   "name": "python3"
  },
  "language_info": {
   "codemirror_mode": {
    "name": "ipython",
    "version": 3
   },
   "file_extension": ".py",
   "mimetype": "text/x-python",
   "name": "python",
   "nbconvert_exporter": "python",
   "pygments_lexer": "ipython3",
   "version": "3.12.2"
  }
 },
 "nbformat": 4,
 "nbformat_minor": 2
}
